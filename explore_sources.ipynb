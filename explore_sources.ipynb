{
 "cells": [
  {
   "cell_type": "markdown",
   "metadata": {},
   "source": [
    "### [Source covid19](https://www.covid19india.org/)\n",
    "https://api.covid19india.org/\n",
    "\n",
    "Recommended approach from doc: json parsing of V4 endopoints\n",
    "\t\t\n",
    "| Status | Link to API | Description |\n",
    "| --- | --- | --- |\n",
    "| <img src=https://github.githubassets.com/images/icons/emoji/unicode/1f49a.png width=\"20\"> | https://api.covid19india.org/v4/min/timeseries.min.json | Daily numbers across C,R,D and Tested per state (historical data) |\n",
    "| <img src=https://github.githubassets.com/images/icons/emoji/unicode/1f49a.png width=\"20\"> | https://api.covid19india.org/v4/min/data.min.json | Current day numbers across districts and states |\n",
    "| <img src=https://github.githubassets.com/images/icons/emoji/unicode/1f49a.png width=\"20\"> | https://api.covid19india.org/v4/min/data-all.min.json | Per day numbers across districts and states - consider using timeseries in place of this. This is a huge file and is a mix of timeseries and data.min.json |\n",
    "\n",
    "**Doc Note**: *Please consider using the above endpoints for all your data needs. All the data we show on the website is fuelled by the above endpoints.*"
   ]
  },
  {
   "cell_type": "markdown",
   "metadata": {},
   "source": [
    "#### Time-series structure\n",
    "state level data time-series: *doesn't go into district as descripted above*\n",
    "\n",
    "https://api.covid19india.org/documentation/timeseries.min.html"
   ]
  },
  {
   "cell_type": "code",
   "execution_count": null,
   "metadata": {},
   "outputs": [],
   "source": [
    "import requests\n",
    "import pandas as pd\n",
    "import time"
   ]
  },
  {
   "cell_type": "code",
   "execution_count": null,
   "metadata": {},
   "outputs": [],
   "source": [
    "url = \"https://api.covid19india.org/v4/min/timeseries.min.json\"\n",
    "response_ts = requests.get(url)"
   ]
  },
  {
   "cell_type": "code",
   "execution_count": null,
   "metadata": {},
   "outputs": [],
   "source": [
    "# read json and normalize\n",
    "start_time = time.time()\n",
    "wide_ts_df = pd.json_normalize(response_ts.json())\n",
    "total_sec = time.time() - start_time\n",
    "print(f\"{round(total_sec,1)} secs execution\")"
   ]
  },
  {
   "cell_type": "code",
   "execution_count": null,
   "metadata": {},
   "outputs": [],
   "source": [
    "# build long format from column names structure (renames as desired)\n",
    "long_ts_df = wide_ts_df.columns.str.split(\".\", expand=True).droplevel(1).to_frame(\n",
    "    index=False, name=[\"state\", \"time_period\", \"obs_type\", \"obs_cat\"]\n",
    ")"
   ]
  },
  {
   "cell_type": "code",
   "execution_count": null,
   "metadata": {},
   "outputs": [],
   "source": [
    "# add values from series\n",
    "long_ts_df[\"val\"] = wide_ts_df.values[0]"
   ]
  },
  {
   "cell_type": "markdown",
   "metadata": {},
   "source": [
    "**Notes**\n",
    "\n",
    "- no key for `delta` should take the neareast previous, eg: `AN, 2020-04-10, delta, recovered` not present means `AN, 2020-04-09, delta, recovered: 10` value has not changed\n",
    "- `delta7` means \"*seven day moving average*\""
   ]
  },
  {
   "cell_type": "code",
   "execution_count": null,
   "metadata": {
    "scrolled": true
   },
   "outputs": [],
   "source": [
    "long_ts_df.loc[30:40]"
   ]
  },
  {
   "cell_type": "code",
   "execution_count": null,
   "metadata": {
    "scrolled": false
   },
   "outputs": [],
   "source": [
    "print(f\"Total data points number: {len(long_ts_df.state)}\")\n",
    "states = long_ts_df.state.unique()\n",
    "print(f\"{len(long_ts_df.state.unique())} states:\\n{states}\")\n",
    "types = long_ts_df.obs_type.unique()\n",
    "print(f\"obs_type:\\n{types}\")\n",
    "categs = long_ts_df.obs_cat.unique()\n",
    "print(f\"obs_cat:\\n{categs}\")"
   ]
  },
  {
   "cell_type": "markdown",
   "metadata": {},
   "source": [
    "#### Time-series data vis"
   ]
  },
  {
   "cell_type": "code",
   "execution_count": null,
   "metadata": {},
   "outputs": [],
   "source": [
    "import dash_core_components as dcc\n",
    "import dash_html_components as html\n",
    "from dash.dependencies import Input, Output\n",
    "from jupyter_dash import JupyterDash\n",
    "import plotly.express as px"
   ]
  },
  {
   "cell_type": "code",
   "execution_count": null,
   "metadata": {},
   "outputs": [],
   "source": [
    "external_stylesheets = ['https://codepen.io/chriddyp/pen/bWLwgP.css']\n",
    "# Build App\n",
    "app = JupyterDash(__name__, external_stylesheets=external_stylesheets)\n",
    "# detect proxy configuration for JupyterHub or Binder\n",
    "JupyterDash.infer_jupyter_proxy_config()"
   ]
  },
  {
   "cell_type": "code",
   "execution_count": null,
   "metadata": {},
   "outputs": [],
   "source": [
    "# dropdowns: state, obs_type, obs_cat, time_period\n",
    "dd_st = dcc.Dropdown(\n",
    "    id=\"my_st\",\n",
    "    options=[\n",
    "        {\"label\": value, \"value\": key}\n",
    "        for key, value in zip(states, states)\n",
    "    ],\n",
    "    value='AN'\n",
    ")\n",
    "dd_type = dcc.Dropdown(\n",
    "    id=\"my_typ\",\n",
    "    options=[\n",
    "        {\"label\": value, \"value\": key}\n",
    "        for key, value in zip(types, types)\n",
    "    ],\n",
    "    value='delta7'\n",
    ")\n",
    "dd_cat = dcc.Dropdown(\n",
    "    id=\"my_cat\",\n",
    "    options=[\n",
    "        {\"label\": value, \"value\": key}\n",
    "        for key, value in zip(categs, categs)\n",
    "    ],\n",
    "    value='confirmed'\n",
    ")\n",
    "time_ps = long_ts_df.time_period.unique()\n",
    "dd_time = dcc.Dropdown(\n",
    "    id=\"my_time\",\n",
    "    options=[\n",
    "        {\"label\": value, \"value\": key}\n",
    "        for key, value in zip(time_ps, time_ps)\n",
    "    ],\n",
    "    value='2021-05-01'\n",
    ")"
   ]
  },
  {
   "cell_type": "code",
   "execution_count": null,
   "metadata": {},
   "outputs": [],
   "source": [
    "# App Layout\n",
    "app.layout = html.Div([\n",
    "    html.H2(\"Indian States Covid Time-Series\"),\n",
    "    html.H6(\"Browse by State, type and category of obs_values and cut off time\"),\n",
    "    html.Div([\n",
    "        html.Div(\n",
    "            [\"Select State\", dd_st],\n",
    "            style={'width': '24%', 'display': 'inline-block'},\n",
    "        ),\n",
    "        html.Div(\n",
    "            [\"Select type\", dd_type],\n",
    "            style={'width': '24%', 'display': 'inline-block'},\n",
    "        ),\n",
    "        html.Div(\n",
    "            [\"Select category\", dd_cat],\n",
    "            style={'width': '24%', 'display': 'inline-block'},\n",
    "        ),\n",
    "        html.Div(\n",
    "            [\"Select time\", dd_time],\n",
    "            style={'width': '24%', 'display': 'inline-block'},\n",
    "        ),\n",
    "    ]),\n",
    "    html.Br(),\n",
    "    dcc.Graph(id='time-series')\n",
    "])"
   ]
  },
  {
   "cell_type": "code",
   "execution_count": null,
   "metadata": {},
   "outputs": [],
   "source": [
    "# Define callback to update graph\n",
    "@app.callback(\n",
    "    Output(\"time-series\", \"figure\"),\n",
    "    Input(\"my_st\", \"value\"),\n",
    "    Input(\"my_typ\", \"value\"),\n",
    "    Input(\"my_cat\", \"value\"),\n",
    "    Input(\"my_time\", \"value\"),\n",
    ")\n",
    "def query_2_plot(state, obs_type, obs_cat, co_time):\n",
    "    # return all times if co_time None\n",
    "    co_time = co_time if co_time else long_ts_df.time_period.min()\n",
    "    # don't return plot if missing values for query\n",
    "    if any([not state, not obs_type, not obs_cat]):\n",
    "        return {}\n",
    "    else:\n",
    "        query = \"state == @state & obs_type == @obs_type & obs_cat == @obs_cat & time_period > @co_time\"\n",
    "        fig = px.line(\n",
    "            long_ts_df.query(query),\n",
    "            x=\"time_period\",\n",
    "            y=\"val\",\n",
    "            line_shape=\"spline\",\n",
    "        ).update_traces(mode=\"lines+markers\")\n",
    "        return fig"
   ]
  },
  {
   "cell_type": "code",
   "execution_count": null,
   "metadata": {},
   "outputs": [],
   "source": [
    "# Run app and display result inline in the notebook\n",
    "app.run_server(mode='inline')"
   ]
  },
  {
   "cell_type": "markdown",
   "metadata": {},
   "source": [
    "#### Current day data structure\n",
    "State and details as of the current day: *contains information about districts*\n",
    "\n",
    "https://api.covid19india.org/documentation/v4_data.html"
   ]
  },
  {
   "cell_type": "code",
   "execution_count": null,
   "metadata": {},
   "outputs": [],
   "source": [
    "url = \"https://api.covid19india.org/v4/min/data.min.json\"\n",
    "response_data = requests.get(url)"
   ]
  },
  {
   "cell_type": "markdown",
   "metadata": {},
   "source": [
    "##### State data\n",
    "We here parse data at state level"
   ]
  },
  {
   "cell_type": "code",
   "execution_count": null,
   "metadata": {},
   "outputs": [],
   "source": [
    "# filter state metadata and districts out from json data\n",
    "json_st = {\n",
    "    key_1: {\n",
    "        key_2: response_data.json()[key_1][key_2]\n",
    "        for key_2 in response_data.json()[key_1] if key_2 not in ['districts', 'meta']\n",
    "    } for key_1 in response_data.json()\n",
    "}"
   ]
  },
  {
   "cell_type": "code",
   "execution_count": null,
   "metadata": {},
   "outputs": [],
   "source": [
    "# read json_st and normalize\n",
    "wide_st_df = pd.json_normalize(json_st)\n",
    "# build long format from column names structure (renames as desired)\n",
    "long_st_df = wide_st_df.columns.str.split(\".\", expand=True).to_frame(\n",
    "    index=False, name=[\"state\", \"obs_type\", \"obs_cat\"]\n",
    ")"
   ]
  },
  {
   "cell_type": "code",
   "execution_count": null,
   "metadata": {},
   "outputs": [],
   "source": [
    "# add values from series\n",
    "long_st_df[\"val\"] = wide_st_df.values[0]"
   ]
  },
  {
   "cell_type": "markdown",
   "metadata": {},
   "source": [
    "**Notes**\n",
    "\n",
    "- Doc caveat: any **obs_cat** category under key `delta` won't be present if a state/district doesn't see a change in such category (eg: `recovered`) for the current day\n",
    "- Could any state/district not be even reported for the current day?\n",
    "- research `delta21_14` meaning"
   ]
  },
  {
   "cell_type": "code",
   "execution_count": null,
   "metadata": {},
   "outputs": [],
   "source": [
    "long_st_df"
   ]
  },
  {
   "cell_type": "code",
   "execution_count": null,
   "metadata": {},
   "outputs": [],
   "source": [
    "print(f\"{len(long_st_df.state.unique())} states:\")\n",
    "print(long_st_df.state.unique())"
   ]
  },
  {
   "cell_type": "markdown",
   "metadata": {},
   "source": [
    "##### State metadata\n",
    "Metadata at state level, **important** information here: population of the state (based on NCP projections)\n",
    "\n",
    "To join eventually into state data"
   ]
  },
  {
   "cell_type": "code",
   "execution_count": null,
   "metadata": {},
   "outputs": [],
   "source": [
    "# filter state metadata from json data\n",
    "json_meta_st = {\n",
    "    key_1: {\n",
    "        key_2: response_data.json()[key_1][key_2]\n",
    "        for key_2 in response_data.json()[key_1] if key_2 == 'meta'\n",
    "    } for key_1 in response_data.json()\n",
    "}"
   ]
  },
  {
   "cell_type": "code",
   "execution_count": null,
   "metadata": {},
   "outputs": [],
   "source": [
    "# read json_meta_st and normalize\n",
    "wide_meta_st_df = pd.json_normalize(json_meta_st, max_level=2)\n",
    "# build temporary long format from column names\n",
    "long_meta_st_df = wide_meta_st_df.columns.str.split(\".\", expand=True).droplevel(1).to_frame(\n",
    "    index=False, name=[\"state\", \"column\"]\n",
    ")\n",
    "long_meta_st_df[\"val\"] = wide_meta_st_df.values[0]\n",
    "# pivot temporary long into state metadata table\n",
    "meta_st_df = long_meta_st_df.pivot(index='state', columns='column', values='val').reset_index()\n",
    "# delete index name `column` from pivot\n",
    "meta_st_df.rename_axis(None, axis=1, inplace=True)"
   ]
  },
  {
   "cell_type": "code",
   "execution_count": null,
   "metadata": {},
   "outputs": [],
   "source": [
    "# un nest metadata tested column\n",
    "tested_df = meta_st_df.tested.apply(pd.Series).rename(\n",
    "    columns={\"date\": \"test_date\", \"source\": \"test_source\"}\n",
    ")\n",
    "# concat back to metadata\n",
    "meta_st_df = pd.concat([meta_st_df, tested_df], axis = 1).drop('tested', axis = 1)"
   ]
  },
  {
   "cell_type": "code",
   "execution_count": null,
   "metadata": {},
   "outputs": [],
   "source": [
    "meta_st_df"
   ]
  },
  {
   "cell_type": "markdown",
   "metadata": {},
   "source": [
    "##### District data\n",
    "Eventually join into state data and metadata"
   ]
  },
  {
   "cell_type": "code",
   "execution_count": null,
   "metadata": {},
   "outputs": [],
   "source": [
    "# filter district data and metadata from json data\n",
    "json_ds = {\n",
    "    key_1: {\n",
    "        key_2: response_data.json()[key_1][key_2]\n",
    "        for key_2 in response_data.json()[key_1] if key_2 == 'districts'\n",
    "    } for key_1 in response_data.json()\n",
    "}"
   ]
  },
  {
   "cell_type": "code",
   "execution_count": null,
   "metadata": {},
   "outputs": [],
   "source": [
    "# read json_ds and normalize - use custom separator: district names have points!\n",
    "start_time = time.time()\n",
    "wide_ds_df = pd.json_normalize(json_ds, max_level=4, sep='//')\n",
    "total_sec = time.time() - start_time\n",
    "print(f\"{round(total_sec,1)} secs execution\")"
   ]
  },
  {
   "cell_type": "code",
   "execution_count": null,
   "metadata": {},
   "outputs": [],
   "source": [
    "# build long format from column names (renames as desired)\n",
    "long_ds_df = wide_ds_df.columns.str.split(\"//\", expand=True).droplevel(1).to_frame(\n",
    "    index=False, name=[\"state\", \"district\", \"obs_type\", \"obs_cat\"]\n",
    ")\n",
    "# add values from series\n",
    "long_ds_df[\"val\"] = wide_ds_df.values[0]"
   ]
  },
  {
   "cell_type": "code",
   "execution_count": null,
   "metadata": {},
   "outputs": [],
   "source": [
    "# filter metadata in temporary long format\n",
    "filter_meta = long_ds_df.obs_type == 'meta'\n",
    "long_meta_ds_df = long_ds_df[filter_meta]\n",
    "# district data in long format (drop metadata)\n",
    "long_data_ds_df = long_ds_df.drop(long_meta_ds_df.index)"
   ]
  },
  {
   "cell_type": "code",
   "execution_count": null,
   "metadata": {},
   "outputs": [],
   "source": [
    "long_data_ds_df"
   ]
  },
  {
   "cell_type": "markdown",
   "metadata": {},
   "source": [
    "##### District metadata\n",
    "Metadata at district level, **important** and **outdated** information: population of the district (based on 2011 census)\n",
    "\n",
    "**Note**: district names could be repeated among states\n",
    "\n",
    "To join eventually into state data and metadata"
   ]
  },
  {
   "cell_type": "code",
   "execution_count": null,
   "metadata": {},
   "outputs": [],
   "source": [
    "# pivot temporary long into district metadata table\n",
    "meta_ds_df = long_meta_ds_df.drop(columns='obs_type').set_index(\n",
    "    ['state', 'district', 'obs_cat']\n",
    ").unstack(level=-1).reset_index(col_level=1).droplevel(level=0, axis=1).rename_axis(None, axis=1)"
   ]
  },
  {
   "cell_type": "code",
   "execution_count": null,
   "metadata": {},
   "outputs": [],
   "source": [
    "# un nest district tested column\n",
    "ds_tested_df = meta_ds_df.tested.apply(pd.Series).drop(0, axis = 1).rename(\n",
    "    columns={\"date\": \"test_date\", \"source\": \"test_source\"}\n",
    ")\n",
    "# concat back to metadata\n",
    "meta_ds_df = pd.concat([meta_ds_df, ds_tested_df], axis = 1).drop('tested', axis = 1)"
   ]
  },
  {
   "cell_type": "code",
   "execution_count": null,
   "metadata": {},
   "outputs": [],
   "source": [
    "meta_ds_df"
   ]
  },
  {
   "cell_type": "markdown",
   "metadata": {},
   "source": [
    "#### \"Data-all\" data structure\n",
    "Described as: *Per day numbers across states and districts - consider using timeseries in place of this -. This is a huge file and is a mix of time-series and current day data*\n",
    "\n",
    "No documentantion @https://api.covid19india.org/\n",
    "\n",
    "**Note**: time-series data don't go into district as descripted. Is state time-series and current day data enough?"
   ]
  },
  {
   "cell_type": "markdown",
   "metadata": {},
   "source": [
    "### [Source CoWIN](https://dashboard.cowin.gov.in/)\n",
    "Is API documented?"
   ]
  },
  {
   "cell_type": "markdown",
   "metadata": {},
   "source": [
    "#### Yves shared link 1\n",
    "https://api.cowin.gov.in/api/v1/reports/v2/getPublicReports?state_id=&district_id=&date=2021-07-15\n",
    "\n",
    "- Check out structure"
   ]
  },
  {
   "cell_type": "code",
   "execution_count": null,
   "metadata": {},
   "outputs": [],
   "source": [
    "# API parameters\n",
    "st_id = \"\"\n",
    "ds_id = \"\"\n",
    "date = \"2021-07-21\"\n",
    "url = \"https://api.cowin.gov.in/api/v1/reports/v2/getPublicReports\"\n",
    "api_param = {\n",
    "    \"state_id\": st_id,\n",
    "    \"district_id\": ds_id,\n",
    "    \"date\": date,\n",
    "}\n",
    "response_cowi = requests.get(url, params=api_param)\n",
    "response_cowi.url"
   ]
  },
  {
   "cell_type": "code",
   "execution_count": null,
   "metadata": {},
   "outputs": [],
   "source": [
    "# keys in data_structure levels\n",
    "if response_cowi.status_code == 200:\n",
    "    keys_1 = [key for key in response_cowi.json()]\n",
    "    print(f\"Keys @level 1:\\n{keys_1}\")\n",
    "    keys_2 = []\n",
    "    for key in keys_1:\n",
    "        # check keys for dicts or list of dicts\n",
    "        if isinstance(response_cowi.json()[key], dict):\n",
    "            keys_2.append(list(response_cowi.json()[key].keys()))\n",
    "        elif isinstance(response_cowi.json()[key], list):\n",
    "            keys_list = []\n",
    "            for elem in response_cowi.json()[key]:\n",
    "                keys_list.append(list(elem.keys()))\n",
    "            keys_2.append(keys_list)\n",
    "        else:\n",
    "            keys_2.append('None')\n",
    "    print(f\"Keys @level 2:\\n{keys_2}\")"
   ]
  },
  {
   "cell_type": "code",
   "execution_count": null,
   "metadata": {},
   "outputs": [],
   "source": [
    "# check if nested info at level 2\n",
    "data_types = []\n",
    "for i, key in enumerate(keys_1):\n",
    "    if isinstance(keys_2[i], list):\n",
    "        for j, elem in enumerate(keys_2[i]):            \n",
    "            # check not list of list\n",
    "            if not isinstance(elem, list):\n",
    "                data = response_cowi.json()[key][elem]\n",
    "                data_types.append(type(data))\n",
    "#                 print(type(data))\n",
    "            else:\n",
    "                for key_2 in elem:\n",
    "                    data = response_cowi.json()[key][j][key_2]\n",
    "                    data_types.append(type(data))\n",
    "#                     print(type(data))"
   ]
  },
  {
   "cell_type": "code",
   "execution_count": null,
   "metadata": {},
   "outputs": [],
   "source": [
    "print(set(data_types))\n",
    "data_types.count(dict)"
   ]
  },
  {
   "cell_type": "markdown",
   "metadata": {},
   "source": [
    "- `topBlock` Extraction"
   ]
  },
  {
   "cell_type": "code",
   "execution_count": null,
   "metadata": {},
   "outputs": [],
   "source": [
    "# read json and normalize\n",
    "wide_top_df = pd.json_normalize(response_cowi.json()['topBlock'])\n",
    "long_top_df = wide_top_df.columns.str.split(\".\", expand=True).to_frame(\n",
    "    index=False, name=[\"obs_type\", \"obs_cat\"]\n",
    ")\n",
    "long_top_df[\"val\"] = wide_top_df.values[0]\n",
    "long_top_df.set_index([\"obs_type\", \"obs_cat\"])"
   ]
  },
  {
   "cell_type": "markdown",
   "metadata": {},
   "source": [
    "- `vaccinationDoneByTime` Extraction\n",
    "\n",
    "Doesn't look relevant for our analysis"
   ]
  },
  {
   "cell_type": "code",
   "execution_count": null,
   "metadata": {},
   "outputs": [],
   "source": [
    "# read json and normalize\n",
    "vac_by_time_df = pd.json_normalize(response_cowi.json()['vaccinationDoneByTime'])\n",
    "vac_by_time_df"
   ]
  },
  {
   "cell_type": "markdown",
   "metadata": {},
   "source": [
    "- `last7DaysRegistration` Extraction\n",
    "\n",
    "Doesn't look relevant for our analysis <!-- -->"
   ]
  },
  {
   "cell_type": "code",
   "execution_count": null,
   "metadata": {},
   "outputs": [],
   "source": [
    "# read json and normalize\n",
    "reg7_df = pd.json_normalize(response_cowi.json()['last7DaysRegistration'])\n",
    "reg7_df"
   ]
  },
  {
   "cell_type": "markdown",
   "metadata": {},
   "source": [
    "- `last30DaysAefi` Extraction\n",
    "\n",
    "**AEFI**: Adverse event following immunization\n",
    "\n",
    "Doesn't look relevant for our analysis <!-- -->"
   ]
  },
  {
   "cell_type": "code",
   "execution_count": null,
   "metadata": {},
   "outputs": [],
   "source": [
    "# read json and normalize\n",
    "aefi30_df = pd.json_normalize(response_cowi.json()['last30DaysAefi'])\n",
    "aefi30_df"
   ]
  },
  {
   "cell_type": "markdown",
   "metadata": {},
   "source": [
    "- `last5daySessionStatus` Extraction\n",
    "\n",
    "Doesn't look relevant for our analysis, *data length doesn't match key name* <!-- -->"
   ]
  },
  {
   "cell_type": "code",
   "execution_count": null,
   "metadata": {},
   "outputs": [],
   "source": [
    "# read json and normalize\n",
    "ses5_df = pd.json_normalize(response_cowi.json()['last5daySessionStatus'])\n",
    "ses5_df"
   ]
  },
  {
   "cell_type": "markdown",
   "metadata": {},
   "source": [
    "- `getBeneficiariesGroupBy` Extraction\n",
    "\n",
    "Data at state - *name not code* - level: `state_id` could be tested as API parameter if required\n",
    "\n",
    "<!-- Doesn't look relevant for our analysis, *data length doesn't match key name* -->"
   ]
  },
  {
   "cell_type": "code",
   "execution_count": null,
   "metadata": {},
   "outputs": [],
   "source": [
    "# read json and normalize\n",
    "ben_df = pd.json_normalize(response_cowi.json()['getBeneficiariesGroupBy'])\n",
    "ben_df"
   ]
  },
  {
   "cell_type": "markdown",
   "metadata": {},
   "source": [
    "- `aefiPercentage`: is this for the day or the total among time-series?"
   ]
  },
  {
   "cell_type": "code",
   "execution_count": null,
   "metadata": {},
   "outputs": [],
   "source": [
    "print(f\"{response_cowi.json()['aefiPercentage']} %\")"
   ]
  },
  {
   "cell_type": "markdown",
   "metadata": {},
   "source": [
    "#### Yves shared link 2\n",
    "https://api.cowin.gov.in/api/v1/reports/v2/getVacPublicReports?state_id=&district_id=&date=2021-07-15\n",
    "\n",
    "- Check out structure"
   ]
  },
  {
   "cell_type": "code",
   "execution_count": null,
   "metadata": {},
   "outputs": [],
   "source": [
    "# API parameters\n",
    "st_id = \"\"\n",
    "ds_id = \"\"\n",
    "date = \"2021-07-21\"\n",
    "url = \"https://api.cowin.gov.in/api/v1/reports/v2/getVacPublicReports\"\n",
    "api_param = {\n",
    "    \"state_id\": st_id,\n",
    "    \"district_id\": ds_id,\n",
    "    \"date\": date,\n",
    "}\n",
    "response_cowi = requests.get(url, params=api_param)\n",
    "response_cowi.url"
   ]
  },
  {
   "cell_type": "code",
   "execution_count": null,
   "metadata": {},
   "outputs": [],
   "source": [
    "# keys in data_structure levels\n",
    "if response_cowi.status_code == 200:\n",
    "    keys_1 = [key for key in response_cowi.json()]\n",
    "    print(f\"Keys @level 1:\\n{keys_1}\")\n",
    "    keys_2 = []\n",
    "    for key in keys_1:\n",
    "        # check keys for dicts or list of dicts\n",
    "        if isinstance(response_cowi.json()[key], dict):\n",
    "            keys_2.append(list(response_cowi.json()[key].keys()))\n",
    "        elif isinstance(response_cowi.json()[key], list):\n",
    "            keys_list = []\n",
    "            for elem in response_cowi.json()[key]:\n",
    "                keys_list.append(list(elem.keys()))\n",
    "            keys_2.append(keys_list)\n",
    "        else:\n",
    "            keys_2.append('None')\n",
    "    print(f\"Keys @level 2:\\n{keys_2}\")"
   ]
  },
  {
   "cell_type": "code",
   "execution_count": null,
   "metadata": {},
   "outputs": [],
   "source": [
    "# check if nested info at level 2\n",
    "data_types = []\n",
    "for i, key in enumerate(keys_1):\n",
    "    if isinstance(keys_2[i], list):\n",
    "        for j, elem in enumerate(keys_2[i]):            \n",
    "            # check not list of list\n",
    "            if not isinstance(elem, list):\n",
    "                data = response_cowi.json()[key][elem]\n",
    "                data_types.append(type(data))\n",
    "#                 print(type(data))\n",
    "            else:\n",
    "                for key_2 in elem:\n",
    "                    data = response_cowi.json()[key][j][key_2]\n",
    "                    data_types.append(type(data))\n",
    "#                     print(type(data))"
   ]
  },
  {
   "cell_type": "code",
   "execution_count": null,
   "metadata": {},
   "outputs": [],
   "source": [
    "print(set(data_types))\n",
    "data_types.count(dict)"
   ]
  }
 ],
 "metadata": {
  "kernelspec": {
   "display_name": "Python 3",
   "language": "python",
   "name": "python3"
  },
  "language_info": {
   "codemirror_mode": {
    "name": "ipython",
    "version": 3
   },
   "file_extension": ".py",
   "mimetype": "text/x-python",
   "name": "python",
   "nbconvert_exporter": "python",
   "pygments_lexer": "ipython3",
   "version": "3.7.6"
  },
  "toc": {
   "base_numbering": 1,
   "nav_menu": {},
   "number_sections": true,
   "sideBar": true,
   "skip_h1_title": false,
   "title_cell": "Table of Contents",
   "title_sidebar": "Contents",
   "toc_cell": false,
   "toc_position": {},
   "toc_section_display": true,
   "toc_window_display": false
  }
 },
 "nbformat": 4,
 "nbformat_minor": 4
}
